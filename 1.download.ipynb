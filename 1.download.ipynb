{
 "cells": [
  {
   "cell_type": "code",
   "execution_count": null,
   "id": "348f7eaf-7acc-4660-8cb7-eaca3d63cb54",
   "metadata": {},
   "outputs": [],
   "source": [
    "import qcportal as ptl\n",
    "import json\n",
    "from collections import defaultdict\n",
    "\n",
    "client = ptl.PortalClient(\"https://api.qcarchive.molssi.org/\")\n",
    "print(client)"
   ]
  },
  {
   "cell_type": "code",
   "execution_count": null,
   "id": "18c81994-a521-4e7a-a1d2-c798e5ccef44",
   "metadata": {},
   "outputs": [],
   "source": [
    "ds = client.get_dataset(\"TorsionDrive\", \"OpenFF Theory Benchmarking Set v1.0\")\n",
    "specifications = [\"MP2/heavy-aug-cc-pVTZ\"]    "
   ]
  },
  {
   "cell_type": "code",
   "execution_count": null,
   "id": "01abc06a-6120-4e2b-9718-91e17384d173",
   "metadata": {},
   "outputs": [],
   "source": [
    "with open('./data/dataset_indices.json', 'r') as file:\n",
    "    dataset_indices = json.load(file)  "
   ]
  },
  {
   "cell_type": "code",
   "execution_count": null,
   "id": "cea68b0f-09f5-4b80-977f-1f96b883729d",
   "metadata": {},
   "outputs": [],
   "source": [
    "mp2_data = defaultdict(dict)\n",
    "for i, index in enumerate(dataset_indices['dataset_indices']):\n",
    "    entry = ds.get_entry(index)\n",
    "    rec = ds.get_record(index, specification_name=specifications[0])\n",
    "    mapped_smiles = entry.attributes['canonical_isomeric_explicit_hydrogen_mapped_smiles']\n",
    "    dihedral_scanned = rec.dict()['specification']['keywords']['dihedrals']\n",
    "    mol_charge = entry.initial_molecules[0].molecular_charge\n",
    "    mol_multiplicity = entry.initial_molecules[0].molecular_multiplicity\n",
    "    final_energies = rec.final_energies\n",
    "    angles = [item[0] for item in list(rec.final_energies.keys())]\n",
    "    energies = [float(item) for item in list(rec.final_energies.values())]\n",
    "    final_geometries = []\n",
    "    dipoles = []\n",
    "    for key in angles:\n",
    "        final_geometries.append(rec.minimum_optimizations[(key,)].final_molecule.geometry.tolist())\n",
    "        dipoles.append(rec.minimum_optimizations[(key,)].trajectory[-1].properties['scf dipole'])\n",
    "    angles, energies, final_geometries, dipoles = zip(*sorted(zip(angles, energies, final_geometries, dipoles)))\n",
    "    mp2_data[str(i)] = {'metadata':{'mapped_smiles':mapped_smiles,\n",
    "               'mol_charge':mol_charge,\n",
    "               'mol_multiplicity':mol_multiplicity, 'dihedral scanned':dihedral_scanned}, 'angles':angles, 'final_energies':energies, 'final_geometries':final_geometries, 'dipoles':dipoles}"
   ]
  },
  {
   "cell_type": "code",
   "execution_count": null,
   "id": "c3e713c2-137f-46f8-9673-2fb4992a595a",
   "metadata": {},
   "outputs": [],
   "source": [
    "with open('./data/MP2_heavy-aug-cc-pVTZ_torsiondrive_data.json', 'w') as outfile:\n",
    "    json.dump(mp2_data, outfile)"
   ]
  },
  {
   "cell_type": "code",
   "execution_count": null,
   "id": "f53cd302-b200-40ae-ae83-8c907b92bd59",
   "metadata": {},
   "outputs": [],
   "source": [
    "sd = client.get_dataset(\"SinglePoint\", \"OpenFF Theory Benchmarking Single Point Energies v1.0\")"
   ]
  },
  {
   "cell_type": "code",
   "execution_count": null,
   "id": "3dca9564-df30-4fd0-9b99-7a21e8297139",
   "metadata": {},
   "outputs": [],
   "source": [
    "# The new update to qcfractal re-arranged lot of single points datasets and old way of accessing is not available, \n",
    "#   so here is a specification map created manually to navigate through the dataset\n",
    "\n",
    "# QCF used to divide the dispersion correction calculation for most of the DFT-D methods and \n",
    "#   hence require adding the energies in case of older single points datasets\n",
    "spec_map = defaultdict(dict)\n",
    "specs = sd.specifications\n",
    "# all b3lyp methods with d3bj correction\n",
    "for method in ['b3lyp']:\n",
    "    for basis in [\"dzvp\", \"def2-tzvp\", \"def2-tzvpd\", \"def2-tzvpp\", \"def2-tzvppd\", \"def2-qzvp\", \"6-31+g**\", \"6-311+g**\"]:\n",
    "        for key, spec in specs.items():\n",
    "            if spec.specification.program == 'psi4':\n",
    "                if spec.specification.method == method:\n",
    "                    if spec.specification.basis == basis:\n",
    "                        spec_map[method+'-d3bj/'+basis] = {'dft_energy_spec':spec.name, 'functional': 'b3lyp', 'dispersion_correction_type': 'd3bj', 'basis': basis, 'dispersion_energy_spec': 'spec_7'}\n",
    "\n",
    "# other methods with d3bj or d3 or d3mbj correction\n",
    "for method in [\"m05-2x-d3\", \"m06-2x-d3\", \"m08-hx-d3\", \"pw6b95-d3bj\", \"pw6b95-d3\", \"b3lyp-d3mbj\", \"dsd-blyp-d3bj\"]:\n",
    "    for basis in [\"dzvp\"]:\n",
    "        method_split = method.split('-')\n",
    "        dispersion_correction_type = method_split[-1]\n",
    "        method_name = '-'.join(method_split[:-1])\n",
    "        for key, spec in specs.items():\n",
    "            if spec.specification.program == 'psi4':\n",
    "                if spec.specification.method == method_name:\n",
    "                    if method_name == \"dsd-blyp\": basis = \"heavy-aug-cc-pvtz\"\n",
    "                    if spec.specification.basis == basis:\n",
    "                        spec_map[method+'/'+basis].update({'dft_energy_spec':spec.name, 'functional':method_name, 'dispersion_correction_type': dispersion_correction_type, 'basis':basis})\n",
    "            if spec.specification.program == 'dftd3':\n",
    "                if spec.specification.method == method:\n",
    "                    if spec.specification.basis == None:\n",
    "                        spec_map[method+'/'+basis].update({'dispersion_energy_spec':spec.name})\n",
    "                        \n",
    "# methods where the dispersion correction is not split into two different calculations\n",
    "for method in [\"wb97m-d3bj\", \"wb97m-v\", \"b3lyp-nl\"]:\n",
    "    for basis in [\"dzvp\"]:\n",
    "        method_split = method.split('-')\n",
    "        dispersion_correction_type = method_split[-1]\n",
    "        method_name = '-'.join(method_split[:-1])\n",
    "        for key, spec in specs.items():\n",
    "            if spec.specification.program == 'psi4':\n",
    "                if spec.specification.method == method:\n",
    "                    if spec.specification.basis == basis:\n",
    "                        spec_map[method+'/'+basis] = {'dft_energy_spec':spec.name, 'functional':method_name, 'dispersion_correction_type': dispersion_correction_type, 'basis':basis, 'dispersion_energy_spec':None}\n",
    "\n",
    "# reference method with no dispersion correction\n",
    "method = \"mp2/heavy-aug-cc-pv[tq]z + d:ccsd(t)/heavy-aug-cc-pvdz\"\n",
    "for key, spec in specs.items():\n",
    "    if spec.specification.program == 'psi4':\n",
    "        if spec.specification.method == method:\n",
    "            spec_map[method] = {'dft_energy_spec':spec.name, 'functional':method, 'dispersion_correction_type': None, 'dispersion_energy_spec':None, 'basis':'CBS'}\n",
    "spec_map.update({'mp2/aug-cc-pvtz': {'dft_energy_spec':'spec_31', 'functional':'mp2', 'dispersion_correction_type': None, 'dispersion_energy_spec':None, 'basis':'aug-cc-pvtz'}})            \n",
    "# spec_map.update({'b97-d3bj/def2-tzvp': {'dft_energy_spec':'spec_2', 'functional':'b97', 'dispersion_correction_type': 'd3bj', 'dispersion_energy_spec':'spec_25', 'basis':'def2-tzvp'}})            "
   ]
  },
  {
   "cell_type": "code",
   "execution_count": null,
   "id": "c7d7360e-1d51-427c-973a-42fb5568f839",
   "metadata": {},
   "outputs": [],
   "source": [
    "spec_map"
   ]
  },
  {
   "cell_type": "code",
   "execution_count": null,
   "id": "8a58ebb3-daa9-421e-befd-b6e67857572b",
   "metadata": {},
   "outputs": [],
   "source": [
    "with open('./data/single-point-dataset-specification-map.json', 'w') as outfile:\n",
    "    json.dump(spec_map, outfile)"
   ]
  },
  {
   "cell_type": "code",
   "execution_count": null,
   "id": "8b1a55e2-b164-40d0-93a6-b0e25176678f",
   "metadata": {},
   "outputs": [],
   "source": [
    "angle_dict = json.load(\n",
    "        open(\"./data/angle_indices_for_single_points.txt\")\n",
    "    )"
   ]
  },
  {
   "cell_type": "code",
   "execution_count": null,
   "id": "5ed2d71e-5a12-4e6d-9b6d-b367e01c055a",
   "metadata": {},
   "outputs": [],
   "source": [
    "for key, val in spec_map.items():\n",
    "    print(key)\n",
    "    \n",
    "    dft_energy_spec = val['dft_energy_spec']\n",
    "    dft_energies = defaultdict(float)    \n",
    "    disp_energies = defaultdict(float)    \n",
    "    dipoles = defaultdict(list)\n",
    "    dipole_flag = False\n",
    "    for x in sd.iterate_records(specification_names=[dft_energy_spec]):\n",
    "        mol_index = x[0].split('-')\n",
    "        dft_energies[(int(mol_index[0]), int(mol_index[1]))] = x[2].return_result\n",
    "        if 'scf dipole' in list(x[2].properties.keys()):\n",
    "            dipole_flag = True\n",
    "            dipoles[(int(mol_index[0]), int(mol_index[1]))] = x[2].properties['scf dipole']\n",
    "\n",
    "    if val['dispersion_energy_spec']:\n",
    "        dispersion_energy_spec = val['dispersion_energy_spec']\n",
    "        for x in sd.iterate_records(specification_names=[dispersion_energy_spec]):\n",
    "            mol_index = x[0].split('-')\n",
    "            disp_energies[(int(mol_index[0]), int(mol_index[1]))] = x[2].return_result\n",
    "    \n",
    "    energies_and_dipoles = defaultdict(dict)\n",
    "    for i in range(59):\n",
    "        dft_energy_list = []\n",
    "        dipole_list = []\n",
    "        disp_energy_list = []\n",
    "        total_energy_list = []\n",
    "        for j in range(24):\n",
    "            dft_energy_list.append(dft_energies[(i,j)])\n",
    "            if dipole_flag: \n",
    "                dipole_list.append(dipoles[(i,j)])\n",
    "            else:\n",
    "                dipole_list.append('N/A')\n",
    "            if val['dispersion_energy_spec']:\n",
    "                disp_energy_list.append(disp_energies[(i,j)])\n",
    "                total_energy_list.append(dft_energies[(i,j)]+disp_energies[(i,j)])\n",
    "            else:\n",
    "                disp_energy_list.append('N/A')\n",
    "                total_energy_list.append(dft_energies[(i,j)])\n",
    "        \n",
    "        angles = angle_dict[str(i)]\n",
    "        angles, total_energy_list, dft_energy_list, disp_energy_list, dipole_list = zip(*sorted(zip(angles, total_energy_list, dft_energy_list, disp_energy_list, dipole_list)))\n",
    "        energies_and_dipoles[i] = {'angles':angles, 'total energies':total_energy_list, 'dft energies':dft_energy_list, 'dispersion energies': disp_energy_list,  'dipoles': dipole_list}\n",
    "        \n",
    "    with open('./data/'+key.replace('/','_')+'_single_points_data.json', 'w') as outfile:\n",
    "        json.dump(energies_and_dipoles, outfile)    "
   ]
  },
  {
   "cell_type": "code",
   "execution_count": null,
   "id": "fd0f781e-f513-41b9-9670-e0d9732e6382",
   "metadata": {},
   "outputs": [],
   "source": []
  },
  {
   "cell_type": "code",
   "execution_count": null,
   "id": "1fc00b0e-771d-495d-b63c-70815f7ca307",
   "metadata": {},
   "outputs": [],
   "source": []
  }
 ],
 "metadata": {
  "kernelspec": {
   "display_name": "Python 3 (ipykernel)",
   "language": "python",
   "name": "python3"
  },
  "language_info": {
   "codemirror_mode": {
    "name": "ipython",
    "version": 3
   },
   "file_extension": ".py",
   "mimetype": "text/x-python",
   "name": "python",
   "nbconvert_exporter": "python",
   "pygments_lexer": "ipython3",
   "version": "3.11.7"
  }
 },
 "nbformat": 4,
 "nbformat_minor": 5
}
