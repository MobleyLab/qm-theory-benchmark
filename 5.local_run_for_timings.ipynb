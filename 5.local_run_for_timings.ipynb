{
 "cells": [
  {
   "cell_type": "code",
   "execution_count": null,
   "id": "a3f8d284",
   "metadata": {},
   "outputs": [],
   "source": [
    "import json\n",
    "import numpy as np\n",
    "from openff.toolkit import Molecule\n",
    "from pint import UnitRegistry\n",
    "import matplotlib.pyplot as plt\n",
    "from tabulate import tabulate\n",
    "from visualization import show_oemol_struc\n",
    "from cinnabar.stats import bootstrap_statistic\n",
    "from matplotlib.backends.backend_pdf import PdfPages\n",
    "from collections import defaultdict\n",
    "from matplotlib import rcParams\n",
    "from PIL import Image\n",
    "import io\n",
    "\n",
    "from openff.units import unit\n",
    "\n",
    "from qcelemental.models.common_models import Model\n",
    "from qcelemental.models import AtomicInput\n",
    "from qcengine import compute"
   ]
  },
  {
   "cell_type": "code",
   "execution_count": null,
   "id": "02d1b407",
   "metadata": {},
   "outputs": [],
   "source": [
    "def return_energy(qcmol, method, program, basis):\n",
    "    result = compute(\n",
    "    input_data=AtomicInput(molecule=qcmol, \n",
    "                           driver=\"gradient\", \n",
    "                           model=Model(method=method, \n",
    "                                       basis=basis,\n",
    "                                       )),\n",
    "        program=program\n",
    "    )\n",
    "\n",
    "    return result\n",
    "\n",
    "rcParams.update({\"font.size\": 12})\n",
    "REF_SPEC = 'mp2/heavy-aug-cc-pv[tq]z + d:ccsd(t)/heavy-aug-cc-pvdz'\n",
    "with open('../data/'+REF_SPEC.replace('/','_')+'_single_points_data.json', 'r') as file:\n",
    "        ref_dict = json.load(file)\n",
    "with open('../data/MP2_heavy-aug-cc-pVTZ_torsiondrive_data.json', 'r') as file:\n",
    "    mp2_data = json.load(file)\n",
    "\n"
   ]
  },
  {
   "cell_type": "code",
   "execution_count": null,
   "id": "8664c516",
   "metadata": {},
   "outputs": [],
   "source": [
    "ureg = UnitRegistry()\n",
    "hartree = 1 * ureg.hartree\n",
    "HARTREE_TO_KCALMOL = hartree.to(ureg.kilocalorie/(ureg.avogadro_constant*ureg.mole)).magnitude\n",
    "kj = 1 * ureg.kilojoule\n",
    "kj_to_kcal = kj.to(ureg.kilocalorie)"
   ]
  },
  {
   "cell_type": "code",
   "execution_count": null,
   "id": "247e7f7e",
   "metadata": {},
   "outputs": [],
   "source": [
    "program = 'psi4'\n",
    "keywords_list = [\n",
    "    \"b97-d3bj/def2-tzvp\",\n",
    "    \"m05-2x-d3/dzvp\",\n",
    "    \"m06-2x-d3/dzvp\",\n",
    "    \"m08-hx-d3/dzvp\",\n",
    "    # \"wb97x-d3bj/dzvp\", commented out since the dispersion energies are not handled properly in current qcf \n",
    "    # version \n",
    "    # for this functional\n",
    "    \"wb97m-d3bj/dzvp\",\n",
    "    \"wb97m-v/dzvp\",\n",
    "    \"pw6b95-d3bj/dzvp\",\n",
    "    \"pw6b95-d3/dzvp\",\n",
    "    \"mp2/aug-cc-pvtz\",\n",
    "    \"mp2/heavy-aug-cc-pvtz\",\n",
    "    \"dsd-blyp-d3bj/heavy-aug-cc-pvtz\",\n",
    "    \"b3lyp-d3bj/dzvp\",\n",
    "    \"b3lyp-nl/dzvp\",\n",
    "    \"b3lyp-d3bj/def2-sv(p)\",\n",
    "    \"b3lyp-d3bj/def2-svp\",\n",
    "    \"b3lyp-d3bj/def2-tzvp\",\n",
    "    \"b3lyp-d3bj/def2-tzvpd\",\n",
    "    \"b3lyp-d3bj/def2-tzvpp\",\n",
    "    \"b3lyp-d3bj/def2-tzvppd\",\n",
    "    \"b3lyp-d3bj/def2-qzvp\",\n",
    "    \"b3lyp-d3bj/6-31g*\",\n",
    "    \"b3lyp-d3bj/6-31+g**\",\n",
    "    \"b3lyp-d3bj/6-311+g**\",\n",
    "]"
   ]
  },
  {
   "cell_type": "code",
   "execution_count": null,
   "id": "f890371d",
   "metadata": {},
   "outputs": [],
   "source": [
    "walltimes = defaultdict(dict)\n",
    "i = 0\n",
    "for key in keywords_list:\n",
    "    method = keywords_list.split('/')[0]\n",
    "    basis = keywords_list.split('/')[1]\n",
    "    mapped_smiles = mp2_data[str(i)]['metadata']['mapped_smiles']\n",
    "    offmol = Molecule.from_mapped_smiles(mapped_smiles, allow_undefined_stereo=True)\n",
    "    method_walltimes = []\n",
    "    \n",
    "    for j in range(10):\n",
    "        positions = np.array(mp2_data[str(i)]['final_geometries'][j]) * 0.529177\n",
    "        offmol._conformers = [positions * unit.angstrom]\n",
    "        qcmol = offmol.to_qcschema()\n",
    "        result = return_energy(qcmol, method=method, program=program, basis=basis)\n",
    "        method_walltimes.append(result.provenance.)\n",
    "    \n",
    "    mean_time = np.mean(method_walltimes)\n",
    "    stdev_time = np.stdev(method_walltimes)\n",
    "    walltimes[key] = {'Mean': mean_time, 'Stdev': stdev_time}    "
   ]
  },
  {
   "cell_type": "code",
   "execution_count": null,
   "id": "c1cef6fa",
   "metadata": {},
   "outputs": [],
   "source": [
    "with open('../data/timings_data.json', 'w') as outfile:\n",
    "    json.dump(walltimes, outfile)       "
   ]
  }
 ],
 "metadata": {
  "kernelspec": {
   "display_name": "Python 3 (ipykernel)",
   "language": "python",
   "name": "python3"
  },
  "language_info": {
   "codemirror_mode": {
    "name": "ipython",
    "version": 3
   },
   "file_extension": ".py",
   "mimetype": "text/x-python",
   "name": "python",
   "nbconvert_exporter": "python",
   "pygments_lexer": "ipython3",
   "version": "3.11.7"
  }
 },
 "nbformat": 4,
 "nbformat_minor": 5
}
